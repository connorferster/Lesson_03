{
 "cells": [
  {
   "cell_type": "markdown",
   "id": "f34bffdd-6456-4734-a0da-322d00997763",
   "metadata": {},
   "source": [
    "# Lesson 03: \"Unpacking\" and Loops"
   ]
  },
  {
   "cell_type": "markdown",
   "id": "caccb699-cc71-40e0-ad95-526a944c2db4",
   "metadata": {
    "tags": []
   },
   "source": [
    "# 1. List \"Unpacking\"\n",
    "\n",
    "A kind of shortcut for splitting up items in a list in Python is called, \"unpacking\". You have seen this already in the tutorials for the sympy Beam module which look like this:\n",
    "\n",
    "```python\n",
    "E, I = symbols(\"E I\")\n",
    "```\n",
    "Here is another example:\n",
    "```python\n",
    "R1, R2 = symbols(\"R1 R2\")\n",
    "```\n",
    "\n",
    "### What is happening here?\n",
    "\n",
    "The sympy `symbols` function takes a string of symbols separated by commas, spaces, or commas and spaces and return the symbol objects as items in a list. In the cases above, lists with two items each. Using \"unpacking\" we can assign each item in the list to its own variable in just one line.\n",
    "\n",
    "More examples:\n",
    "```python\n",
    "my_list = [\"cat\", \"bat\", 43]\n",
    "item_1, item_2, item_3 = my_list\n",
    "```\n",
    "\n",
    "This is less to type than this:\n",
    "```python\n",
    "my_list = [\"cat\", \"bat\", 43]\n",
    "item_1 = my_list[0]\n",
    "item_2 = my_list[1]\n",
    "item_3 = my_list[2]\n",
    "```\n",
    "\n",
    "Try running the above `my_list` example and try printing out `item_1`, `item_2`, `item_3` to verify for yourself how it works."
   ]
  },
  {
   "cell_type": "code",
   "execution_count": null,
   "id": "6b8786a0-b840-4c9d-b5e6-d642bf8e8162",
   "metadata": {},
   "outputs": [],
   "source": []
  },
  {
   "cell_type": "markdown",
   "id": "32ecb3b7-6e29-4856-ba92-bf3622f50bd3",
   "metadata": {},
   "source": [
    "## Unpacking into a function call\n",
    "\n",
    "Some functions accept multiple individual arguments, e.g. \n",
    "\n",
    "```python\n",
    "from sympy.physics.continuum_mechanics.beam import Beam\n",
    "from sympy import symbols\n",
    "\n",
    "my_beam = Beam(72, 2.2e6, 450) # Three separate arguments\n",
    "```\n",
    "\n",
    "But, what if we had these arguments in a list?\n",
    "\n",
    "```python\n",
    "L_E_I = [72, 2.2e6, 450]\n",
    "my_beam = Beam(L_E_I) # This does not work\n",
    "```\n",
    "\n",
    "In this case, `Beam` expects to receive three separate values. Passing it a list is passing only one single value, a list, of a type it is not expecting.\n",
    "\n",
    "Using unpacking, we can do this:\n",
    "\n",
    "```python\n",
    "L_E_I = [72, 2.2e6, 450]\n",
    "my_beam = Beam(*L_E_I) # This will unpack the list items into each positional argument\n",
    "```\n",
    "\n",
    "This also works:\n",
    "\n",
    "```python\n",
    "reactions = symbols(\"R1 R2\") # This returns a list of two symbols, R1 and R2\n",
    "my_beam.solve_for_reaction_loads(*reactions)\n",
    "```\n",
    "\n",
    "Note, that `Beam` requires exactly three arguments, `L`, `E`, and `I` so the list you unpack must have exactly three items.\n",
    "\n",
    "However, `my_beam.solve_for_reaction_loads()` can take any number of arguments so you can unpack a list of any length."
   ]
  },
  {
   "cell_type": "code",
   "execution_count": null,
   "id": "b3fec3be-a927-4030-9b40-60e53c05e478",
   "metadata": {},
   "outputs": [],
   "source": []
  },
  {
   "attachments": {
    "b1a039bd-8b82-4232-8d29-b5056e0c9a55.png": {
     "image/png": "[encoded data removed]"
    }
   },
   "cell_type": "markdown",
   "id": "892aef63-3dc0-47bd-831b-e51b2111ffab",
   "metadata": {
    "tags": []
   },
   "source": [
    "**Caution**\n",
    "If you try to unpack a list, you _must_ have the **exact** number of items in the list as there are variables to unpack to. Otherwise, you will get a `ValueError`:\n",
    "\n",
    "```python\n",
    "my_list = [\"cat\", \"bat\", 43]\n",
    "item_1, item_2, item_3, item_4 = my_list\n",
    "```\n",
    "![image.png](attachment:b1a039bd-8b82-4232-8d29-b5056e0c9a55.png)"
   ]
  },
  {
   "cell_type": "code",
   "execution_count": null,
   "id": "0fd28ce7-cd04-4fc1-8831-566e11c997bf",
   "metadata": {},
   "outputs": [],
   "source": []
  },
  {
   "cell_type": "markdown",
   "id": "a5558b2a-c87e-49de-8f99-8eb38c386d4d",
   "metadata": {
    "tags": []
   },
   "source": [
    "# 2. Automating the work: `for` loops\n",
    "\n",
    "Part of the reason we are doing this Python stuff is to have the computer do our repetitive work for us. We accomplish this by putting a task into a loop and instruct the computer to repeat the loop until the work is done.\n",
    "\n",
    "In Python, the primary tool for this is the `for` loop."
   ]
  },
  {
   "cell_type": "markdown",
   "id": "4639908c-5c04-4fa5-b0df-60f477db3964",
   "metadata": {},
   "source": [
    "## Looping Syntax\n",
    "\n",
    "```python\n",
    "for <item_description> in <collection_of_items>:\n",
    "    <the code>\n",
    "    <for our task(s)>\n",
    "    <goes here...>\n",
    "```\n",
    "\n",
    "A quick example:\n",
    "\n",
    "```python\n",
    "animals = [\"bear\", \"coyote\", \"otter\", \"marmot\", \"crow\", \"whale\"]\n",
    "\n",
    "crossword_clues = [] # An empty list\n",
    "for animal in animals:\n",
    "    crossword_clue = f\"{animal.upper()} - {len(animal)} letters\"\n",
    "    crossword_clues.append(crossword_clue)\n",
    "\n",
    "print(crossword_clues)\n",
    "\n",
    "```"
   ]
  },
  {
   "cell_type": "code",
   "execution_count": null,
   "id": "4dbf8c4b-bec1-4ee0-b4f0-1939a85eb818",
   "metadata": {},
   "outputs": [],
   "source": []
  },
  {
   "cell_type": "markdown",
   "id": "ab39ede7-5829-4711-b1b4-1ad9151c712a",
   "metadata": {},
   "source": [
    "## Understanding the loop syntax\n",
    "\n",
    "```python\n",
    "for <item> in <collection_of_items>:\n",
    "```\n",
    "\n",
    "In order to loop, we need to have something that we can loop over. That is, we need an _iterable_ of some kind. Many things in Python are _iterable_ including lists and strings (remember, a string is a collection of characters).\n",
    "\n",
    "While we are in the loop, the loop visit each item in the collection sequentially. To refer to the current item, we give it a name. That name can be anything we want but it's best if the name relates to the name of the iterable.\n",
    "\n",
    "In other words:\n",
    "\n",
    "```python\n",
    "for <name_given_to_the_current_item> in <my_collection_of_items>:\n",
    "```\n",
    "\n",
    "Here are some examples:\n",
    "\n",
    "```python\n",
    "multiples_3 = [3, 6, 9, 12]\n",
    "for multiple in multiples_3:\n",
    "    print(multiple)\n",
    "```\n",
    "\n",
    "But this also works (although what's happening is not as apparent):\n",
    "\n",
    "```python\n",
    "turkies = [5, 6, 7, 8] \n",
    "for book in turkies: # < - Books? In turkies?\n",
    "    print(book)\n",
    "```"
   ]
  },
  {
   "cell_type": "code",
   "execution_count": null,
   "id": "6a8cc408-c92f-47ed-b48e-ea833426b7e6",
   "metadata": {},
   "outputs": [],
   "source": []
  },
  {
   "cell_type": "markdown",
   "id": "044f4b04-2ffd-4a02-a67a-8da99f368d3f",
   "metadata": {},
   "source": [
    "## \"Pythonic\" looping vs. \"Non-pythonic\" looping\n",
    "\n",
    "If you have experience Matlab, C, or C++, then you will be use to seeing a different kind of loop:\n",
    "\n",
    "```python\n",
    "multiples_3 = [3, 6, 9, 12]\n",
    "\n",
    "for idx in range(len(multiples_3)):\n",
    "    print(multiples_3[idx])\n",
    "```\n",
    "\n",
    "In this kind of loop, you are not given the actual items in the collection. You are _generating_ integers in a sequence and using those integers to retrieve the item in the collection using indexing.\n",
    "\n",
    "If you do this in Python, people will accuse you of being \"non-pythonic\". Sure, you can do it and it will work just fine.  However, you are not taking advantage of the fact that Python just gives you what you need without having to use indexing.\n",
    "\n",
    "**But!!! What if you need the index for some reason???**\n",
    "\n",
    "Ah! There is a pythonic solution for this: `enumerate`."
   ]
  },
  {
   "cell_type": "code",
   "execution_count": null,
   "id": "47d58657-4d0b-48c7-9d52-d4311ff27cbb",
   "metadata": {},
   "outputs": [],
   "source": []
  },
  {
   "cell_type": "markdown",
   "id": "3a9f0490-ea15-4503-a99c-4c803c429ff9",
   "metadata": {},
   "source": [
    "# Looping Recipes"
   ]
  },
  {
   "cell_type": "markdown",
   "id": "652f5c8d-a2c8-41fb-8d22-c51a85cd3c1d",
   "metadata": {},
   "source": [
    "## Transforming items in a list (or other collection)\n",
    "\n",
    "A common application for looping is **transforming** data in a `list` or other kind of collection and putting the transformed data into a new `list`.\n",
    "\n",
    "This is the general recipe for that:\n",
    "\n",
    "```python\n",
    "your_data = ['data1', 'data2', 'data3', ...]\n",
    "\n",
    "acc = [] # Your \"accumulator\", an empty list\n",
    "for <item> in <your_data>:\n",
    "    new_item = <do something with item>\n",
    "    acc.append(new_item)\n",
    "```\n",
    "\n",
    "And here is an example of that:\n",
    "\n",
    "```python\n",
    "column_dimensions = [[300, 600], [200, 600], [400, 400]] # l x w\n",
    "\n",
    "etabs_labels = [] # The accumulator\n",
    "for column_dim in column_dimensions: # Each item is a list of two numbers\n",
    "    length = column_dim[0]\n",
    "    width = column_dim[1]\n",
    "    etabs_label = f\"COL{length}X{width}\"\n",
    "    etabs_labels.append(etabs_label)\n",
    "```\n"
   ]
  },
  {
   "cell_type": "code",
   "execution_count": null,
   "id": "6fac5e64-7624-4167-8b4e-b885e864371f",
   "metadata": {},
   "outputs": [],
   "source": []
  },
  {
   "cell_type": "markdown",
   "id": "87d18b63-424e-49f0-85ce-3d65ab5bac87",
   "metadata": {},
   "source": [
    "## Accessing data from two lists\n",
    "\n",
    "Sometimes, you have two lists of data that are the same length and you wish to combine them in some way.\n",
    "\n",
    "This is the general recipe for that:\n",
    "\n",
    "```python\n",
    "data_list_1 = [...]\n",
    "data_list_2 = [...]\n",
    "\n",
    "acc = [] # Accumulator\n",
    "for idx, item in enumerate(data_list_1):\n",
    "    other_item = data_list_2[idx]\n",
    "    new_item = <do something with item and other_item>\n",
    "    acc.append(new_item)\n",
    "```\n",
    "\n",
    "And here is an example of that:\n",
    "\n",
    "```python\n",
    "column_widths = [300, 300, 300, 400, 400, 400]\n",
    "column_lengths = [400, 600, 900, 400, 600, 800]\n",
    "\n",
    "column_sizes = []\n",
    "for idx, width in enumerate(column_widths):\n",
    "    length = column_lengths[idx]\n",
    "    column_size = f\"COL{width}X{length}\"\n",
    "    column_sizes.append(column_size)\n",
    "```\n",
    "\n"
   ]
  },
  {
   "cell_type": "code",
   "execution_count": null,
   "id": "3a0c6141-ff10-4cca-8ce3-71365930b4b4",
   "metadata": {},
   "outputs": [],
   "source": []
  },
  {
   "cell_type": "markdown",
   "id": "ef144d18-7581-45c7-bf40-06e1b643bc6d",
   "metadata": {},
   "source": [
    "## Double loops\n",
    "\n",
    "Sometimes, you have a _nested_ collection, collections inside of collections, and you need to access items within the inner collection.\n",
    "\n",
    "Here is the general recipe for that:\n",
    "\n",
    "```python\n",
    "nested_data = [[...], [...], ...]\n",
    "\n",
    "outside_acc = [] # \"Outside\" single accumulator\n",
    "for outside_item in nested_data:\n",
    "    inner_acc = [] # You may or may not need an inner accumulator\n",
    "    for inside_item in outside_item:\n",
    "        new_inside_item = <do something with inside item>\n",
    "        inner_acc.append\n",
    "    new_outside_item = inner_acc\n",
    "    outside_acc.append(new_outside_item)\n",
    "```\n",
    "\n",
    "And here is an example of that:\n",
    "\n",
    "```python\n",
    "# A list of beam spans \n",
    "# Each sub list represents one beam with it's spans\n",
    "# Dimensions are in strings in ft'in but we want as numbers in decimal feet\n",
    "beams_with_spans = [[\"12'6\", \"4'8\"], [\"3'2\", \"6'3\", \"4'8\"], [\"20'2\"]]\n",
    "\n",
    "beam_spans_ft = [] # Outer accumulator\n",
    "for beam_spans in beams_with_spans:\n",
    "    beam_ft = [] # Inner accumulator\n",
    "    for span in beam_spans:\n",
    "        feet_as_str = span.split(\"'\")[0]\n",
    "        inches_as_str = span.split(\"'\")[1]\n",
    "        \n",
    "        feet_as_num = float(feet_as_str)\n",
    "        inches_as_num = float(inches_as_str)\n",
    "        \n",
    "        decimal_feet = feet_as_num + inches_as_num / 12\n",
    "        beam_ft.append(decimal_feet)\n",
    "    beam_spans_ft.append(beam_ft)\n",
    "```\n",
    " \n",
    "    \n",
    "  \n",
    "        "
   ]
  },
  {
   "cell_type": "code",
   "execution_count": null,
   "id": "f8490297-8552-4eb5-b81b-a72858e68ef6",
   "metadata": {},
   "outputs": [],
   "source": []
  },
  {
   "cell_type": "markdown",
   "id": "d7193354-c1d6-4895-9bf2-5b73de49f1d0",
   "metadata": {
    "tags": []
   },
   "source": [
    "# Looping Recipe: Looping over lines in a file\n",
    "\n",
    "A very common application for looping is for looping over lines in a file, both for reading a file and writing a file.\n",
    "\n",
    "In your lesson directory, there is a file called `beam_0.txt`. Let's open the file and add the lines of the file to an accumulator.\n",
    "\n",
    "\n",
    "## Reading lines in a file\n",
    "```python\n",
    "my_file = \"beam_0.txt\"\n",
    "file_data = [] # Our accumulator for the data\n",
    "with open(my_file, \"r\") as file:\n",
    "    for line in file.readlines():\n",
    "        file_data.append(line)\n",
    "```\n",
    "\n",
    "Now that we have the data stored in a list called `file_data`, we can look at it and manipulate it directly in Python.\n",
    "\n",
    "```python\n",
    "file_data[1:3] # Show line #s 1 and 2 (stop BEFORE 3)\n",
    "```"
   ]
  },
  {
   "cell_type": "code",
   "execution_count": null,
   "id": "fb490da9-a827-4ef0-8eac-4eb8341505eb",
   "metadata": {},
   "outputs": [],
   "source": []
  },
  {
   "cell_type": "markdown",
   "id": "dc5678fc-9093-451c-aac8-5c1d9b30b090",
   "metadata": {
    "tags": []
   },
   "source": [
    "## Writing lines in a file\n",
    "\n",
    "Data can be written to a file if it contains a **list of string**. If you have data in your list that is not a string, you must convert it to a string using the `str()` function.\n",
    "\n",
    "**Note: Each item in the list will be just written to the file. They will not be on new lines.**\n",
    "```python\n",
    "some_made_up_data = [\"cat\", \"bat\", \"hat\"] # All strings\n",
    "my_new_file = \"new_file.txt\"\n",
    "\n",
    "with open(my_new_file, \"w\") as file:\n",
    "    for line in some_made_up_data:\n",
    "        file.write(line)\n",
    "```\n",
    "\n",
    "To add each item to a new line, either the strings in the list must end with the new line character (`\\n`) or you must add a new line character:\n",
    "\n",
    "```python\n",
    "some_made_up_data = [\"cat\", \"bat\", \"hat\", 42] # Contains non-strings\n",
    "my_new_file = \"new_file.txt\"\n",
    "\n",
    "with open(my_new_file, \"w\") as file:\n",
    "    for line in some_made_up_data:\n",
    "        line = str(line)\n",
    "        line = line + \"\\n\"\n",
    "        file.write(line)\n",
    "```"
   ]
  },
  {
   "cell_type": "code",
   "execution_count": null,
   "id": "b1b549c0-a4cf-4da8-8652-96b1283df8e8",
   "metadata": {},
   "outputs": [],
   "source": []
  }
 ],
 "metadata": {
  "kernelspec": {
   "display_name": "Python 3 (ipykernel)",
   "language": "python",
   "name": "python3"
  },
  "language_info": {
   "codemirror_mode": {
    "name": "ipython",
    "version": 3
   },
   "file_extension": ".py",
   "mimetype": "text/x-python",
   "name": "python",
   "nbconvert_exporter": "python",
   "pygments_lexer": "ipython3",
   "version": "3.9.7"
  }
 },
 "nbformat": 4,
 "nbformat_minor": 5
}
