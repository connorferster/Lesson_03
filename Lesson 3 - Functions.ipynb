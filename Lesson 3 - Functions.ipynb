{
 "cells": [
  {
   "cell_type": "code",
   "execution_count": 25,
   "metadata": {},
   "outputs": [],
   "source": [
    "from cs103 import *"
   ]
  },
  {
   "cell_type": "markdown",
   "metadata": {},
   "source": [
    "# Lesson 3: Writing (and using) functions\n",
    "\n",
    "In all of our lessons and workbooks so far, we have just been writing code and running it directly in a given cell. This is fine and good for trying things out or writing a short script to just do one or two things. \n",
    "\n",
    "But, going beyond just scripts, how do you write a *program*?\n",
    "\n",
    "The main focus of this course is on how to write structured and flexible *programs* that you can use over and over again in your work. By understanding how to structure programs, you will quickly gain confidence in your programming ability.\n",
    "\n",
    "Programs all start with **functions**."
   ]
  },
  {
   "cell_type": "markdown",
   "metadata": {},
   "source": [
    "## What is a function?\n",
    "\n",
    "A function is a small piece of code that describes a _process_ and is assigned a name. \n",
    "\n",
    "Our previous workbook exercise was just code written in Jupyter cells. If you wanted to run that code in multiple places, you would have to copy and paste the cell. \n",
    "\n",
    "A function allows you to write some code once, and use it multiple times by just calling its name, like this:\n",
    "\n",
    "```python\n",
    "def loud_string(s: str) -> str:\n",
    "    \"\"\"Returns the string, 's', as uppercase and with an exclamation point at the end.\"\"\"\n",
    "    loud = f\"{s.upper()}!\"\n",
    "    return loud\n",
    "```\n",
    "\n",
    "Because a function definition has a **colon**, any code we want to be in the function, we have to hit indent it by using the `[Tab]` key. In Jupyter, `[Tab]` creates four spaces.\n",
    "\n",
    "Now that the function has been defined it can be used later in the code and in multiple places:\n",
    "\n",
    "```python\n",
    "player_greeting = \"Good morning\"\n",
    "obnoxious_player_greeting = loud_string(player_greeting)\n",
    "```"
   ]
  },
  {
   "cell_type": "code",
   "execution_count": null,
   "metadata": {},
   "outputs": [],
   "source": []
  },
  {
   "cell_type": "code",
   "execution_count": null,
   "metadata": {},
   "outputs": [],
   "source": []
  },
  {
   "cell_type": "markdown",
   "metadata": {},
   "source": [
    "## Components of a function:\n",
    "\n",
    "### 1. The \"signature\":\n",
    "\n",
    "```python\n",
    "def loud_string(s: str) -> str:\n",
    "```\n",
    "The signature *defines* the name of the function, tells us what parameters it takes and what type they are, and then tells us what type the function outputs, or *returns*. A good function signature should be able to tell us most of what we need to know about the function without _having_ to read the docstring.\n",
    "\n",
    "### 2. The \"doc string\":\n",
    "```python\n",
    "\"\"\"Returns 's' in upper case and puts an \"!\" at the end.\"\"\"\n",
    "```\n",
    "The doc string is just a `str` written with three quotes (`\"\"\"`, used for multi-line strings) that tells us what the function does. We can read the doc string of any function in python by typing `help(<function name>)`. e.g. We could type `help(loud_string)` to see the doc string of our function here.\n",
    "\n",
    "### 3. The \"implementation\":\n",
    "```python\n",
    "loud = f\"{s.upper()}!\"\n",
    "```\n",
    "The implementation is what we call the actual lines of code in the function. We call it this because it is the implementation of the *idea* or *purpose* of the function. Often times, there are many ways to implement any given function. The way that it is written is just the _current implementation_.\n",
    "\n",
    "### 4. The `return`\n",
    "```python\n",
    "return loud\n",
    "```\n",
    "`return` is a special keyword in Python that only has meaning inside of a function. If you try using `return` in your code outside of a function, Python will give you `SyntaxError: 'return' outside function`.\n",
    "\n",
    "**The `return` keyword tells the function to do two things:**\n",
    "\n",
    "1. Terminate the function\n",
    "2. If there is a variable or _expression_ beside the return keyword, then that value is given as the _output_ or \"return value\" of the function.\n"
   ]
  },
  {
   "cell_type": "code",
   "execution_count": null,
   "metadata": {},
   "outputs": [],
   "source": []
  },
  {
   "cell_type": "markdown",
   "metadata": {},
   "source": [
    "### Lets change the implementation of `loud_string`\n",
    "\n",
    "One of the ideas behind writing functions is that a programmer only needs to know what the function needs as input and what to expect as output. As far as another programmer is concerned, *how* the function does what it does is not important. \n",
    "\n",
    "Of course, *how* it works is important, but the idea is you should be able to completely change the *implementation* (say, if you found a faster way of getting the result) and not have to change any of the code that uses the function. The function should work in exactly the same way even if the implementation is completely different."
   ]
  },
  {
   "cell_type": "markdown",
   "metadata": {},
   "source": [
    "Here is an example using our `loud_string` function:\n",
    "\n",
    "```python\n",
    "def loud_string(s: str) -> str:\n",
    "    \"\"\"Returns 's' in upper case and puts an \"!\" at the end.\"\"\"\n",
    "    all_caps = s.upper()\n",
    "    punctuation = \"!\"\n",
    "    return all_caps + punctuation\n",
    "```\n",
    "\n",
    "This function will always return the exact same result as our original `loud_string` function. Any code that calls the `loud_string` function still works."
   ]
  },
  {
   "cell_type": "code",
   "execution_count": null,
   "metadata": {},
   "outputs": [],
   "source": []
  },
  {
   "cell_type": "markdown",
   "metadata": {},
   "source": [
    "## How to Design Functions"
   ]
  },
  {
   "cell_type": "markdown",
   "metadata": {},
   "source": [
    "### Recipe:\n",
    "1. Write the \"stub\"\n",
    "2. Write some example tests\n",
    "3. Write the body of the function the best you can\n",
    "4. Run your tests\n",
    "5. If tests fail, go back to 3. and continue"
   ]
  },
  {
   "cell_type": "markdown",
   "metadata": {},
   "source": [
    "### 1. Write the \"stub\"\n",
    "\n",
    "The \"stub\" is essentially the shell, or form, of the function you want to write. It's what you write when you know that you need to write a function but you are not entirely sure yet of how it will work.\n",
    "\n",
    "A function stub has the following characteristics:\n",
    "\n",
    "1. It has the correct \"signature\"\n",
    "2. It has a docstring describing what the function does in words\n",
    "3. It returns a dummy output that is the correct type\n",
    "\n",
    "The function *signature* is this line:\n",
    "```python\n",
    "def loud_string(s: str) -> str:\n",
    "```\n",
    "\n",
    "And here is a full **stub**:\n",
    "\n",
    "```python\n",
    "def loud_string(s: str) -> str:\n",
    "    \"\"\"\n",
    "    Returns 's' in upper case and puts an \"!\" at the end.\n",
    "    \"\"\"\n",
    "    return \"x\"\n",
    "```"
   ]
  },
  {
   "cell_type": "code",
   "execution_count": null,
   "metadata": {},
   "outputs": [],
   "source": []
  },
  {
   "cell_type": "markdown",
   "metadata": {},
   "source": [
    "### 2. Write some tests\n",
    "\n",
    "The idea behind writing tests is that you are thinking ahead of time about what you want your function to give you. Your first couple of tests will just be to test whether it is generally working or not. \n",
    "\n",
    "However, it is important to think of \"edge cases\": instances where the user using your function may give a funny input which may cause some unexpected behaviour. If you are writing some mathematical function that includes the user giving you a number, then your function runs the square root on that number, amongst other things, what happens when the user inputs a negative number?\n",
    "\n",
    "```python\n",
    "start_testing()\n",
    "expect(loud_string(\"hello\"),\"HELLO!\")\n",
    "expect(loud_string(\"A!\"), \"A!!\") # What if user inputs an already \"loud\" string. What should happen?\n",
    "summary()\n",
    "```\n",
    "\n",
    "After you have written your tests, run your tests with the stub. They should generally fail."
   ]
  },
  {
   "cell_type": "code",
   "execution_count": null,
   "metadata": {},
   "outputs": [],
   "source": []
  },
  {
   "cell_type": "markdown",
   "metadata": {},
   "source": [
    "### 3. Write the implementation (the body)"
   ]
  },
  {
   "cell_type": "markdown",
   "metadata": {},
   "source": [
    "```python\n",
    "def loud_string(s: str) -> str:\n",
    "    \"\"\"\n",
    "    Returns 's' in upper case and puts an \"!\" at the end.\n",
    "    \"\"\"\n",
    "    return f\"{s.upper()}!\"\n",
    "```"
   ]
  },
  {
   "cell_type": "code",
   "execution_count": null,
   "metadata": {},
   "outputs": [],
   "source": []
  },
  {
   "cell_type": "markdown",
   "metadata": {},
   "source": [
    "### 4. Run your tests (and debug if necessary)\n",
    "\n",
    "Now that the implementation is written, run your tests:\n",
    "\n",
    "```python\n",
    "start_testing()\n",
    "expect(loud_string(\"hello\"),\"HELLO!\")\n",
    "expect(loud_string(\"A!\"), \"A!!\") # What if user inputs an already \"loud\" string. What should happen?\n",
    "summary()\n",
    "```"
   ]
  },
  {
   "cell_type": "code",
   "execution_count": null,
   "metadata": {},
   "outputs": [],
   "source": []
  },
  {
   "cell_type": "markdown",
   "metadata": {},
   "source": [
    "## Another example\n",
    "\n",
    "Say we want to write an automatic email sending program that will send personalized email to a list of names we have. The email will also change the greeting based on the time of day and time of year. \n",
    "\n",
    "We want to write a function that combines the person's name with the greeting. The function will take two `str`, a name and a greeting, and return a `str` that represents the combined name and greeting. e.g. \"Good morning, Sayid\""
   ]
  },
  {
   "cell_type": "markdown",
   "metadata": {},
   "source": [
    "### First, start with the stub\n",
    "\n",
    "```python\n",
    "def combine_name_and_greeting(name: str, greeting: str) -> str:\n",
    "    \"\"\"\n",
    "    Returns a str representing the 'name' combined with the 'greeting'.\n",
    "    e.g. \"Good morning, Sayid\"\n",
    "    \"\"\"\n",
    "    return \"x\"\n",
    "```"
   ]
  },
  {
   "cell_type": "code",
   "execution_count": null,
   "metadata": {},
   "outputs": [],
   "source": []
  },
  {
   "cell_type": "markdown",
   "metadata": {},
   "source": [
    "## Second, write some tests of what the output should look like**\n",
    "```python\n",
    "start_testing()\n",
    "expect(combine_name_and_greeting(\"Sarwa\", \"Good day\"), \"Good day, Sarwa\")\n",
    "expect(combine_name_and_greeting(\"paul\", \"Happy holidays\"), \"Happy holidays, Paul\")\n",
    "expect(combine_name_and_greeting(\"\", \"\"), \", \") # What happens with empty input?\n",
    "summary()\n",
    "    \n",
    "```\n",
    "\n",
    "**Now, try and run your tests...they should fail**"
   ]
  },
  {
   "cell_type": "code",
   "execution_count": null,
   "metadata": {},
   "outputs": [],
   "source": []
  },
  {
   "cell_type": "markdown",
   "metadata": {},
   "source": [
    "### Third, write the function body, the _implementation_ of the function...\n",
    "\n",
    "```python\n",
    "def combine_name_and_greeting(name: str, greeting: str) -> str:\n",
    "    \"\"\"\n",
    "    Returns a str representing the 'name' combined with the 'greeting'.\n",
    "    e.g. \"Good morning, Sayid\"\n",
    "    \"\"\"\n",
    "    return f\"{greeting}, {name.capitalize()}\"\n",
    "```\n",
    "\n",
    "**And now try to run your tests...they should all pass**"
   ]
  },
  {
   "cell_type": "code",
   "execution_count": null,
   "metadata": {},
   "outputs": [],
   "source": []
  },
  {
   "cell_type": "code",
   "execution_count": null,
   "metadata": {},
   "outputs": [],
   "source": []
  },
  {
   "cell_type": "markdown",
   "metadata": {},
   "source": [
    "## \"All these steps seem kind of fussy. I am pretty sure I can skip this stuff.\"\n",
    "\n",
    "In this course, you will be asked to follow ALL the steps for writing functions as I have described above. That means start by writing the stub and NOT write any implementation code until the stub is complete, even if you already \"know\" how to write it.\n",
    "\n",
    "### It's about developing good habits for when the answer is not obvious\n",
    "\n",
    "It may feel like you are taking \"extra steps\" and that writing a doc string to describe what your function does is just \"slowing you down\" but that is kind of the point. Taking the time to think through the problem fully makes the actual programming go faster.\n",
    "\n",
    "Also, this is about building _good habits_ for your programming. If you have good habits, you can work on projects over time without confusing yourself when six months later you come back to a project and cannot remember anything you did. Additionally, you can collaborate effectively with other people. Programming is more fun when it is a social experience.\n",
    "\n",
    "### What I do in real life\n",
    "\n",
    "When I write code for just myself, I always write a stub. It helps me get clear in my head what I am trying to do because often I am trying to figure something out as I go. By putting my intention in words, I don't have to worry about what code I am going to write. If I can explain it easily to myself, then I will know how to write the code.\n",
    "\n",
    "Over the last year, I have sometimes gotten out of the habit of writing tests after the stub. This has made my life more difficult than it needed to be while I _thought_ it was making my life easier. \n",
    "\n",
    "I am now getting back into the habit of writing tests before the implementation. This has made the code much easier to write."
   ]
  },
  {
   "cell_type": "code",
   "execution_count": null,
   "metadata": {},
   "outputs": [],
   "source": []
  }
 ],
 "metadata": {
  "kernelspec": {
   "display_name": "Python 3",
   "language": "python",
   "name": "python3"
  },
  "language_info": {
   "codemirror_mode": {
    "name": "ipython",
    "version": 3
   },
   "file_extension": ".py",
   "mimetype": "text/x-python",
   "name": "python",
   "nbconvert_exporter": "python",
   "pygments_lexer": "ipython3",
   "version": "3.7.7"
  }
 },
 "nbformat": 4,
 "nbformat_minor": 4
}
